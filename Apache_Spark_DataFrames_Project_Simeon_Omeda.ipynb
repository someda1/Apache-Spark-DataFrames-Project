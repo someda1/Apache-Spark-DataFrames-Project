{
  "nbformat": 4,
  "nbformat_minor": 0,
  "metadata": {
    "colab": {
      "provenance": []
    },
    "kernelspec": {
      "name": "python3",
      "display_name": "Python 3"
    },
    "language_info": {
      "name": "python"
    }
  },
  "cells": [
    {
      "cell_type": "markdown",
      "source": [
        "# Apache Spark DataFrames Project Simeon_Omeda\n",
        "\n",
        "> \n",
        "As a Data professional, you need to perform an analysis by answering questions about\n",
        "some stock market data on Safaricom from the years 2012-2017\n",
        "\n"
      ],
      "metadata": {
        "id": "mpTSx4gk-8Xn"
      }
    },
    {
      "cell_type": "code",
      "source": [
        "# Installing pyspark\n",
        "# ---\n",
        "\n",
        "!pip install pyspark\n"
      ],
      "metadata": {
        "colab": {
          "base_uri": "https://localhost:8080/"
        },
        "id": "4R8an9DZ_W5C",
        "outputId": "528bc74a-2828-4b24-bdaf-84992fdf5131"
      },
      "execution_count": 96,
      "outputs": [
        {
          "output_type": "stream",
          "name": "stdout",
          "text": [
            "Looking in indexes: https://pypi.org/simple, https://us-python.pkg.dev/colab-wheels/public/simple/\n",
            "Requirement already satisfied: pyspark in /usr/local/lib/python3.8/dist-packages (3.3.2)\n",
            "Requirement already satisfied: py4j==0.10.9.5 in /usr/local/lib/python3.8/dist-packages (from pyspark) (0.10.9.5)\n"
          ]
        }
      ]
    },
    {
      "cell_type": "code",
      "source": [
        "from pyspark.sql.functions import col\n",
        "from pyspark.sql import SparkSession\n",
        "spark = SparkSession.builder.master(\"local[*]\").getOrCreate()\n",
        "sc = spark.sparkContext"
      ],
      "metadata": {
        "id": "H2ylNu4VAmR7"
      },
      "execution_count": 97,
      "outputs": []
    },
    {
      "cell_type": "markdown",
      "source": [
        "**Data Importation and Exploration**\n",
        "\n",
        "*● Start a spark session and load the stock file while inferring the data types.*\n",
        "\n",
        "*● Determine the column names*\n",
        "\n",
        "*● Make observations about the schema.*\n",
        "\n",
        "*● Show the first 5 rows*\n",
        "\n",
        "*● Use the describe method to learn about the data frame*\n",
        "\n"
      ],
      "metadata": {
        "id": "l5DgfqYmDEWE"
      }
    },
    {
      "cell_type": "code",
      "source": [
        "# Start a spark session and load the stock file while inferring the data types\n",
        "# Dataset URL (CSV File): https://bit.ly/3pmchka\n",
        "saf_stock_df = spark.read.csv(\"saf_stock.csv\", header=True, inferSchema=True)"
      ],
      "metadata": {
        "id": "XzRlfTb3DNwd"
      },
      "execution_count": 98,
      "outputs": []
    },
    {
      "cell_type": "code",
      "source": [
        "# Determine the column names\n",
        "print(\"Column Names:\")\n",
        "print(saf_stock_df.columns)"
      ],
      "metadata": {
        "colab": {
          "base_uri": "https://localhost:8080/"
        },
        "id": "U24fw3ULE8-c",
        "outputId": "95f93361-ca40-4972-8b59-13c43db30695"
      },
      "execution_count": 99,
      "outputs": [
        {
          "output_type": "stream",
          "name": "stdout",
          "text": [
            "Column Names:\n",
            "['Date', 'Open', 'High', 'Low', 'Close', 'Volume', 'Adj Close']\n"
          ]
        }
      ]
    },
    {
      "cell_type": "code",
      "source": [
        "# Make observations about the schema.\n",
        "saf_stock_df.printSchema()"
      ],
      "metadata": {
        "colab": {
          "base_uri": "https://localhost:8080/"
        },
        "id": "pp2o090wFP8c",
        "outputId": "ce8804f1-14d3-460a-e478-036a5a2811a1"
      },
      "execution_count": 100,
      "outputs": [
        {
          "output_type": "stream",
          "name": "stdout",
          "text": [
            "root\n",
            " |-- Date: timestamp (nullable = true)\n",
            " |-- Open: double (nullable = true)\n",
            " |-- High: double (nullable = true)\n",
            " |-- Low: double (nullable = true)\n",
            " |-- Close: double (nullable = true)\n",
            " |-- Volume: integer (nullable = true)\n",
            " |-- Adj Close: double (nullable = true)\n",
            "\n"
          ]
        }
      ]
    },
    {
      "cell_type": "code",
      "source": [
        "# we have the folowing datatypes:timestamp, double, integer"
      ],
      "metadata": {
        "id": "8gE_Y5IZFq_6"
      },
      "execution_count": 101,
      "outputs": []
    },
    {
      "cell_type": "code",
      "source": [
        "# Use the describe method to learn about the data frame\n",
        "saf_stock_df.describe().show()"
      ],
      "metadata": {
        "colab": {
          "base_uri": "https://localhost:8080/"
        },
        "id": "rH1ybyt6F_l7",
        "outputId": "c39e920c-78cc-4a1a-b91b-69893aa02acf"
      },
      "execution_count": 102,
      "outputs": [
        {
          "output_type": "stream",
          "name": "stdout",
          "text": [
            "+-------+------------------+-----------------+-----------------+-----------------+-----------------+-----------------+\n",
            "|summary|              Open|             High|              Low|            Close|           Volume|        Adj Close|\n",
            "+-------+------------------+-----------------+-----------------+-----------------+-----------------+-----------------+\n",
            "|  count|              1258|             1258|             1258|             1258|             1258|             1258|\n",
            "|   mean| 72.35785375357709|72.83938807631165| 71.9186009594594|72.38844998012726|8222093.481717011|67.23883848728146|\n",
            "| stddev|  6.76809024470826|6.768186808159218|6.744075756255496|6.756859163732991|  4519780.8431556|6.722609449996857|\n",
            "|    min|56.389998999999996|        57.060001|        56.299999|        56.419998|          2094900|        50.363689|\n",
            "|    max|         90.800003|        90.970001|            89.25|        90.470001|         80898100|84.91421600000001|\n",
            "+-------+------------------+-----------------+-----------------+-----------------+-----------------+-----------------+\n",
            "\n"
          ]
        }
      ]
    },
    {
      "cell_type": "code",
      "source": [
        "# Show the first 5 rows\n",
        "saf_stock_df.show(5)"
      ],
      "metadata": {
        "colab": {
          "base_uri": "https://localhost:8080/"
        },
        "id": "N0LDoCqvGKzT",
        "outputId": "0b3808d9-0909-46a0-b479-eed13bef325b"
      },
      "execution_count": 103,
      "outputs": [
        {
          "output_type": "stream",
          "name": "stdout",
          "text": [
            "+-------------------+------------------+---------+---------+------------------+--------+------------------+\n",
            "|               Date|              Open|     High|      Low|             Close|  Volume|         Adj Close|\n",
            "+-------------------+------------------+---------+---------+------------------+--------+------------------+\n",
            "|2012-01-03 00:00:00|         59.970001|61.060001|59.869999|         60.330002|12668800|52.619234999999996|\n",
            "|2012-01-04 00:00:00|60.209998999999996|60.349998|59.470001|59.709998999999996| 9593300|         52.078475|\n",
            "|2012-01-05 00:00:00|         59.349998|59.619999|58.369999|         59.419998|12768200|         51.825539|\n",
            "|2012-01-06 00:00:00|         59.419998|59.450001|58.869999|              59.0| 8069400|          51.45922|\n",
            "|2012-01-09 00:00:00|         59.029999|59.549999|58.919998|             59.18| 6679300|51.616215000000004|\n",
            "+-------------------+------------------+---------+---------+------------------+--------+------------------+\n",
            "only showing top 5 rows\n",
            "\n"
          ]
        }
      ]
    },
    {
      "cell_type": "markdown",
      "source": [
        "**Data Preparation**\n",
        "\n",
        "*● Format all the data to 2 decimal places i.e. format_number()*\n",
        "\n",
        "*● Create a new data frame with a column called HV Ratio that is the ratio of the High Price versus volume of stock traded for a day*\n"
      ],
      "metadata": {
        "id": "rxaiQDc4G6XA"
      }
    },
    {
      "cell_type": "code",
      "source": [
        "from pyspark.sql.functions import round, col\n",
        "import pyspark.sql.functions as F\n",
        "for c_name, c_type in saf_stock_df.dtypes:\n",
        "    if c_type in ('double', 'float'):\n",
        "        saf_stock_df = saf_stock_df.withColumn(c_name, F.round(c_name, 2))\n",
        "saf_stock_df.show(5)"
      ],
      "metadata": {
        "colab": {
          "base_uri": "https://localhost:8080/"
        },
        "id": "TKJgLYnZH12O",
        "outputId": "9dad95ae-d9f3-4940-a44c-363c7e0411b8"
      },
      "execution_count": 104,
      "outputs": [
        {
          "output_type": "stream",
          "name": "stdout",
          "text": [
            "+-------------------+-----+-----+-----+-----+--------+---------+\n",
            "|               Date| Open| High|  Low|Close|  Volume|Adj Close|\n",
            "+-------------------+-----+-----+-----+-----+--------+---------+\n",
            "|2012-01-03 00:00:00|59.97|61.06|59.87|60.33|12668800|    52.62|\n",
            "|2012-01-04 00:00:00|60.21|60.35|59.47|59.71| 9593300|    52.08|\n",
            "|2012-01-05 00:00:00|59.35|59.62|58.37|59.42|12768200|    51.83|\n",
            "|2012-01-06 00:00:00|59.42|59.45|58.87| 59.0| 8069400|    51.46|\n",
            "|2012-01-09 00:00:00|59.03|59.55|58.92|59.18| 6679300|    51.62|\n",
            "+-------------------+-----+-----+-----+-----+--------+---------+\n",
            "only showing top 5 rows\n",
            "\n"
          ]
        }
      ]
    },
    {
      "cell_type": "code",
      "source": [
        "from pyspark.sql.functions import regexp_replace, col\n",
        "stock_df = saf_stock_df.withColumn(\"Volume\", regexp_replace(col(\"Volume\"), \",\", \"\"))\n",
        "stock_df = saf_stock_df.withColumn(\"HV Ratio\", saf_stock_df.High/ saf_stock_df.Volume)\n",
        "stock_df.show(5)"
      ],
      "metadata": {
        "colab": {
          "base_uri": "https://localhost:8080/"
        },
        "id": "uahcLk8bJnm2",
        "outputId": "3ebd45bf-8665-4a58-c8d3-59c2ba7e3627"
      },
      "execution_count": 105,
      "outputs": [
        {
          "output_type": "stream",
          "name": "stdout",
          "text": [
            "+-------------------+-----+-----+-----+-----+--------+---------+--------------------+\n",
            "|               Date| Open| High|  Low|Close|  Volume|Adj Close|            HV Ratio|\n",
            "+-------------------+-----+-----+-----+-----+--------+---------+--------------------+\n",
            "|2012-01-03 00:00:00|59.97|61.06|59.87|60.33|12668800|    52.62|4.819714574387472E-6|\n",
            "|2012-01-04 00:00:00|60.21|60.35|59.47|59.71| 9593300|    52.08|6.290848821573389...|\n",
            "|2012-01-05 00:00:00|59.35|59.62|58.37|59.42|12768200|    51.83|4.669413073103491E-6|\n",
            "|2012-01-06 00:00:00|59.42|59.45|58.87| 59.0| 8069400|    51.46|7.367338339901356E-6|\n",
            "|2012-01-09 00:00:00|59.03|59.55|58.92|59.18| 6679300|    51.62|8.915604928660188E-6|\n",
            "+-------------------+-----+-----+-----+-----+--------+---------+--------------------+\n",
            "only showing top 5 rows\n",
            "\n"
          ]
        }
      ]
    },
    {
      "cell_type": "markdown",
      "source": [
        "**Data Analysis**\n",
        "\n",
        "*● What day had the Peak High in Price?*\n",
        "\n",
        "*● What is the mean of the Close column?*\n",
        "\n",
        "*● What is the max and min of the Volume column?*\n",
        "\n",
        "*● How many days was the Close lower than 60 dollars?*\n",
        "\n",
        "*● What percentage of the time was the High greater than 80 dollars?*\n",
        "\n",
        "*● What is the Pearson correlation between High and Volume?*\n",
        "\n",
        "*● What is the max High per year?*\n",
        "\n",
        "*● What is the average Close for each Calendar Month?*\n"
      ],
      "metadata": {
        "id": "jIvDlM1lVCBJ"
      }
    },
    {
      "cell_type": "code",
      "source": [
        "from pyspark.sql import SQLContext\n",
        "\n",
        "sqlCtx = SQLContext(spark)\n",
        "saf_stock_df.createOrReplaceTempView(\"stock_data\")\n",
        "\n",
        "print(\"Tables in SQLContext:\", sqlCtx.tableNames())"
      ],
      "metadata": {
        "colab": {
          "base_uri": "https://localhost:8080/"
        },
        "id": "gJY1u-C_Z5cr",
        "outputId": "b29ca7ca-9509-4613-c7f1-805fcad9a1ff"
      },
      "execution_count": 106,
      "outputs": [
        {
          "output_type": "stream",
          "name": "stdout",
          "text": [
            "Tables in SQLContext: ['stock_data', 'stock_df']\n"
          ]
        }
      ]
    },
    {
      "cell_type": "code",
      "source": [
        "stock_df.createOrReplaceTempView('stock_df')\n",
        "tables = sqlCtx.tableNames()\n"
      ],
      "metadata": {
        "id": "AgGfl-oaaqus"
      },
      "execution_count": 107,
      "outputs": []
    },
    {
      "cell_type": "code",
      "source": [
        "# What day had the Peak High in Price?\n",
        "stock_df[['date','High']].sort(stock_df.High.desc()).show(1)"
      ],
      "metadata": {
        "colab": {
          "base_uri": "https://localhost:8080/"
        },
        "id": "aDVlsXiUWE4Q",
        "outputId": "c7eb9ec0-b1c2-4238-bfdf-d353919bffbb"
      },
      "execution_count": 108,
      "outputs": [
        {
          "output_type": "stream",
          "name": "stdout",
          "text": [
            "+-------------------+-----+\n",
            "|               date| High|\n",
            "+-------------------+-----+\n",
            "|2015-01-13 00:00:00|90.97|\n",
            "+-------------------+-----+\n",
            "only showing top 1 row\n",
            "\n"
          ]
        }
      ]
    },
    {
      "cell_type": "code",
      "source": [
        "# What is the mean of the Close column?\n",
        "stock_df[['close']].describe().show()"
      ],
      "metadata": {
        "colab": {
          "base_uri": "https://localhost:8080/"
        },
        "id": "qPnG4-KCWxqC",
        "outputId": "9df6423c-d836-4665-f31b-b63585720e08"
      },
      "execution_count": 109,
      "outputs": [
        {
          "output_type": "stream",
          "name": "stdout",
          "text": [
            "+-------+-----------------+\n",
            "|summary|            close|\n",
            "+-------+-----------------+\n",
            "|  count|             1258|\n",
            "|   mean|72.38844992050863|\n",
            "| stddev|6.756859155425468|\n",
            "|    min|            56.42|\n",
            "|    max|            90.47|\n",
            "+-------+-----------------+\n",
            "\n"
          ]
        }
      ]
    },
    {
      "cell_type": "code",
      "source": [
        "# What is the max and min of the Volume column?\n",
        "stock_df[['Volume']].describe().show()"
      ],
      "metadata": {
        "colab": {
          "base_uri": "https://localhost:8080/"
        },
        "id": "gdcsq6y9XJPh",
        "outputId": "34b5fc47-6cc3-48d5-bdb6-843d5f18d259"
      },
      "execution_count": 110,
      "outputs": [
        {
          "output_type": "stream",
          "name": "stdout",
          "text": [
            "+-------+-----------------+\n",
            "|summary|           Volume|\n",
            "+-------+-----------------+\n",
            "|  count|             1258|\n",
            "|   mean|8222093.481717011|\n",
            "| stddev|  4519780.8431556|\n",
            "|    min|          2094900|\n",
            "|    max|         80898100|\n",
            "+-------+-----------------+\n",
            "\n"
          ]
        }
      ]
    },
    {
      "cell_type": "code",
      "source": [
        "# How many days was the Close lower than 60 dollars?\n",
        "less_60= stock_df[stock_df['close'] < 60]\n",
        "less_60.count()"
      ],
      "metadata": {
        "colab": {
          "base_uri": "https://localhost:8080/"
        },
        "id": "kHmCzVLMXiDE",
        "outputId": "4668d155-7bab-4178-ec73-d01ed254fea4"
      },
      "execution_count": 111,
      "outputs": [
        {
          "output_type": "execute_result",
          "data": {
            "text/plain": [
              "81"
            ]
          },
          "metadata": {},
          "execution_count": 111
        }
      ]
    },
    {
      "cell_type": "code",
      "source": [
        "# What percentage of the time was the High greater than 80 dollars?\n",
        "\n",
        "query ='SELECT (SELECT COUNT(High) FROM stock_df where High > 80)*100/(select COUNT(High) from stock_df) as Percentage  From stock_df group by Percentage'\n",
        "sqlCtx.sql(query).show()"
      ],
      "metadata": {
        "colab": {
          "base_uri": "https://localhost:8080/"
        },
        "id": "OIwkusa8YAQ9",
        "outputId": "9bf713af-7aa4-40c2-ef0a-c88782e7bc32"
      },
      "execution_count": 112,
      "outputs": [
        {
          "output_type": "stream",
          "name": "stdout",
          "text": [
            "+-----------------+\n",
            "|       Percentage|\n",
            "+-----------------+\n",
            "|9.141494435612083|\n",
            "+-----------------+\n",
            "\n"
          ]
        }
      ]
    },
    {
      "cell_type": "code",
      "source": [
        "# What is the Pearson correlation between High and Volume?\n",
        "from pyspark.sql.functions import corr\n",
        "pearson_corr = stock_df.select(corr(\"High\", \"Volume\").alias(\"correlation\")).collect()[0][0]\n",
        "pearson_corr"
      ],
      "metadata": {
        "colab": {
          "base_uri": "https://localhost:8080/"
        },
        "id": "knE7VhHobApr",
        "outputId": "d8a229ab-738f-4c73-bf92-e903581cebc1"
      },
      "execution_count": 113,
      "outputs": [
        {
          "output_type": "execute_result",
          "data": {
            "text/plain": [
              "-0.33843260582148915"
            ]
          },
          "metadata": {},
          "execution_count": 113
        }
      ]
    },
    {
      "cell_type": "code",
      "source": [
        "# What is the max High per year?\n",
        "max_high = sqlCtx.sql(\"SELECT year(Date) as year, max(High) as MAXX FROM stock_df GROUP BY year(Date) ORDER BY MAXX DESC\")\n",
        "#max_high\n",
        "max_high.show()"
      ],
      "metadata": {
        "colab": {
          "base_uri": "https://localhost:8080/"
        },
        "id": "FNJKS8QfbUju",
        "outputId": "6867097e-729e-40b4-ec68-5afe5b6249c5"
      },
      "execution_count": 114,
      "outputs": [
        {
          "output_type": "stream",
          "name": "stdout",
          "text": [
            "+----+-----+\n",
            "|year| MAXX|\n",
            "+----+-----+\n",
            "|2015|90.97|\n",
            "|2014|88.09|\n",
            "|2013|81.37|\n",
            "|2012| 77.6|\n",
            "|2016|75.19|\n",
            "+----+-----+\n",
            "\n"
          ]
        }
      ]
    },
    {
      "cell_type": "code",
      "source": [
        "# What is the average Close for each Calendar Month?\n",
        "query = 'select MONTH(Date), AVG(Close) as month_average from stock_df group by MONTH(Date) order by MONTH(Date) asc'\n",
        "sqlCtx.sql(query).show()"
      ],
      "metadata": {
        "colab": {
          "base_uri": "https://localhost:8080/"
        },
        "id": "R8-X5o1jdYUj",
        "outputId": "6e38a1a8-b3db-470d-899c-858d0d5fa533"
      },
      "execution_count": 115,
      "outputs": [
        {
          "output_type": "stream",
          "name": "stdout",
          "text": [
            "+-----------+-----------------+\n",
            "|month(Date)|    month_average|\n",
            "+-----------+-----------------+\n",
            "|          1|71.44801980198022|\n",
            "|          2|71.30680412371134|\n",
            "|          3|71.77794392523363|\n",
            "|          4|72.97361904761907|\n",
            "|          5|72.30971698113206|\n",
            "|          6|72.49537735849057|\n",
            "|          7|74.43971962616824|\n",
            "|          8|73.02981818181819|\n",
            "|          9|72.18411764705883|\n",
            "|         10|71.57854545454546|\n",
            "|         11|72.11108910891085|\n",
            "|         12|72.84792452830189|\n",
            "+-----------+-----------------+\n",
            "\n"
          ]
        }
      ]
    },
    {
      "cell_type": "code",
      "source": [],
      "metadata": {
        "id": "cjLaAW7LlJsV"
      },
      "execution_count": 115,
      "outputs": []
    }
  ]
}